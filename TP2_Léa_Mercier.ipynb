{
 "cells": [
  {
   "cell_type": "code",
   "execution_count": 14,
   "metadata": {},
   "outputs": [],
   "source": [
    "import numpy as np\n",
    "import keras\n",
    "import os\n",
    "import re\n",
    "import tensorflow as tf\n",
    "import tensorflow .strings as strings\n",
    "import shutil\n",
    "import string\n",
    "import matplotlib.pyplot as plt\n",
    "\n",
    "from keras.models import Sequential\n",
    "from keras.layers.core import Dense\n",
    "from tensorflow.keras.layers.experimental.preprocessing import TextVectorization\n",
    "from tensorflow.keras import layers\n",
    "from tensorflow.keras import losses\n",
    "from tensorflow.keras import preprocessing"
   ]
  },
  {
   "cell_type": "markdown",
   "metadata": {},
   "source": [
    "# Exercice 4: Build a neural network to classify images"
   ]
  },
  {
   "cell_type": "markdown",
   "metadata": {},
   "source": [
    "In this first part we are just going to explore our dataset and compute some basic statistics of the distribution of labels"
   ]
  },
  {
   "cell_type": "code",
   "execution_count": 2,
   "metadata": {},
   "outputs": [],
   "source": [
    "fashion_mnist = keras.datasets.fashion_mnist\n",
    "(x_train, y_train), (x_test, y_test) = fashion_mnist.load_data()"
   ]
  },
  {
   "cell_type": "code",
   "execution_count": 3,
   "metadata": {},
   "outputs": [],
   "source": [
    "# first we need to save the name of the different classes\n",
    "class_names = ['T-shirt/top', 'Trouser', 'Pullover', 'Dress', 'Coat',\n",
    "               'Sandal', 'Shirt', 'Sneaker', 'Bag', 'Ankle boot']"
   ]
  },
  {
   "cell_type": "code",
   "execution_count": 4,
   "metadata": {},
   "outputs": [
    {
     "name": "stdout",
     "output_type": "stream",
     "text": [
      "[[  0   0   0   0   0   0   0   0   0   0   0   0   0   0   0   0   0   0\n",
      "    0   0   0   0   0   0   0   0   0   0]\n",
      " [  0   0   0   0   0   0   0   0   0   0   0   0   0   0   0   0   0   0\n",
      "    0   0   0   0   0   0   0   0   0   0]\n",
      " [  0   0   0   0   0   0   0   0   0   0   0   0   0   0   0   0   0   0\n",
      "    0   0   0   0   0   0   0   0   0   0]\n",
      " [  0   0   0   0   0   0   0   0   0   0   0   0   1   0   0  13  73   0\n",
      "    0   1   4   0   0   0   0   1   1   0]\n",
      " [  0   0   0   0   0   0   0   0   0   0   0   0   3   0  36 136 127  62\n",
      "   54   0   0   0   1   3   4   0   0   3]\n",
      " [  0   0   0   0   0   0   0   0   0   0   0   0   6   0 102 204 176 134\n",
      "  144 123  23   0   0   0   0  12  10   0]\n",
      " [  0   0   0   0   0   0   0   0   0   0   0   0   0   0 155 236 207 178\n",
      "  107 156 161 109  64  23  77 130  72  15]\n",
      " [  0   0   0   0   0   0   0   0   0   0   0   1   0  69 207 223 218 216\n",
      "  216 163 127 121 122 146 141  88 172  66]\n",
      " [  0   0   0   0   0   0   0   0   0   1   1   1   0 200 232 232 233 229\n",
      "  223 223 215 213 164 127 123 196 229   0]\n",
      " [  0   0   0   0   0   0   0   0   0   0   0   0   0 183 225 216 223 228\n",
      "  235 227 224 222 224 221 223 245 173   0]\n",
      " [  0   0   0   0   0   0   0   0   0   0   0   0   0 193 228 218 213 198\n",
      "  180 212 210 211 213 223 220 243 202   0]\n",
      " [  0   0   0   0   0   0   0   0   0   1   3   0  12 219 220 212 218 192\n",
      "  169 227 208 218 224 212 226 197 209  52]\n",
      " [  0   0   0   0   0   0   0   0   0   0   6   0  99 244 222 220 218 203\n",
      "  198 221 215 213 222 220 245 119 167  56]\n",
      " [  0   0   0   0   0   0   0   0   0   4   0   0  55 236 228 230 228 240\n",
      "  232 213 218 223 234 217 217 209  92   0]\n",
      " [  0   0   1   4   6   7   2   0   0   0   0   0 237 226 217 223 222 219\n",
      "  222 221 216 223 229 215 218 255  77   0]\n",
      " [  0   3   0   0   0   0   0   0   0  62 145 204 228 207 213 221 218 208\n",
      "  211 218 224 223 219 215 224 244 159   0]\n",
      " [  0   0   0   0  18  44  82 107 189 228 220 222 217 226 200 205 211 230\n",
      "  224 234 176 188 250 248 233 238 215   0]\n",
      " [  0  57 187 208 224 221 224 208 204 214 208 209 200 159 245 193 206 223\n",
      "  255 255 221 234 221 211 220 232 246   0]\n",
      " [  3 202 228 224 221 211 211 214 205 205 205 220 240  80 150 255 229 221\n",
      "  188 154 191 210 204 209 222 228 225   0]\n",
      " [ 98 233 198 210 222 229 229 234 249 220 194 215 217 241  65  73 106 117\n",
      "  168 219 221 215 217 223 223 224 229  29]\n",
      " [ 75 204 212 204 193 205 211 225 216 185 197 206 198 213 240 195 227 245\n",
      "  239 223 218 212 209 222 220 221 230  67]\n",
      " [ 48 203 183 194 213 197 185 190 194 192 202 214 219 221 220 236 225 216\n",
      "  199 206 186 181 177 172 181 205 206 115]\n",
      " [  0 122 219 193 179 171 183 196 204 210 213 207 211 210 200 196 194 191\n",
      "  195 191 198 192 176 156 167 177 210  92]\n",
      " [  0   0  74 189 212 191 175 172 175 181 185 188 189 188 193 198 204 209\n",
      "  210 210 211 188 188 194 192 216 170   0]\n",
      " [  2   0   0   0  66 200 222 237 239 242 246 243 244 221 220 193 191 179\n",
      "  182 182 181 176 166 168  99  58   0   0]\n",
      " [  0   0   0   0   0   0   0  40  61  44  72  41  35   0   0   0   0   0\n",
      "    0   0   0   0   0   0   0   0   0   0]\n",
      " [  0   0   0   0   0   0   0   0   0   0   0   0   0   0   0   0   0   0\n",
      "    0   0   0   0   0   0   0   0   0   0]\n",
      " [  0   0   0   0   0   0   0   0   0   0   0   0   0   0   0   0   0   0\n",
      "    0   0   0   0   0   0   0   0   0   0]]\n"
     ]
    },
    {
     "data": {
      "text/plain": [
       "<matplotlib.image.AxesImage at 0x2308fe33700>"
      ]
     },
     "execution_count": 4,
     "metadata": {},
     "output_type": "execute_result"
    },
    {
     "data": {
      "image/png": "[encoded data removed]",
      "text/plain": [
       "<Figure size 432x288 with 1 Axes>"
      ]
     },
     "metadata": {
      "needs_background": "light"
     },
     "output_type": "display_data"
    }
   ],
   "source": [
    "print(x_train[0])\n",
    "plt.imshow(x_train[0])"
   ]
  },
  {
   "cell_type": "code",
   "execution_count": 5,
   "metadata": {},
   "outputs": [
    {
     "name": "stdout",
     "output_type": "stream",
     "text": [
      "length of x for the training set :  60000\n",
      "length of y for the training set :  60000\n",
      "length of x for the test set :  10000\n",
      "length of y for the test set :  10000\n",
      "shape of x for the training set :  (60000, 28, 28)\n",
      "shape of y for the training set :  (60000,)\n",
      "shape of x for the test set :  (10000, 28, 28)\n",
      "shape of y for the test set :  (10000,)\n"
     ]
    }
   ],
   "source": [
    "print(\"length of x for the training set : \", len(x_train))\n",
    "print(\"length of y for the training set : \", len(y_train))\n",
    "print(\"length of x for the test set : \", len(x_test))\n",
    "print(\"length of y for the test set : \", len(y_test))\n",
    "print(\"shape of x for the training set : \", x_train.shape)\n",
    "print(\"shape of y for the training set : \", y_train.shape)\n",
    "print(\"shape of x for the test set : \", x_test.shape)\n",
    "print(\"shape of y for the test set : \", y_test.shape)"
   ]
  },
  {
   "cell_type": "code",
   "execution_count": 6,
   "metadata": {},
   "outputs": [],
   "source": [
    "# Some plots of the distribution of the distribution of the labels"
   ]
  },
  {
   "cell_type": "code",
   "execution_count": 7,
   "metadata": {},
   "outputs": [
    {
     "data": {
      "image/png": "[encoded data removed]",
      "text/plain": [
       "<Figure size 432x288 with 2 Axes>"
      ]
     },
     "metadata": {
      "needs_background": "light"
     },
     "output_type": "display_data"
    }
   ],
   "source": [
    "# print \n",
    "plt.figure()\n",
    "plt.imshow(x_train[0])\n",
    "plt.colorbar()\n",
    "plt.grid(False)\n",
    "plt.show()"
   ]
  },
  {
   "cell_type": "markdown",
   "metadata": {},
   "source": [
    "We are now going to run the provided code to classify the images"
   ]
  },
  {
   "cell_type": "code",
   "execution_count": 8,
   "metadata": {},
   "outputs": [
    {
     "data": {
      "image/png": "[encoded data removed]",
      "text/plain": [
       "<Figure size 720x720 with 25 Axes>"
      ]
     },
     "metadata": {},
     "output_type": "display_data"
    }
   ],
   "source": [
    "# first we need to pretreat our data\n",
    "x_train = x_train / 255.0\n",
    "x_test = x_test / 255.0\n",
    "# print the 25 first pictures to verify the convertion\n",
    "plt.figure(figsize=(10,10))\n",
    "for i in range(25):\n",
    "    plt.subplot(5,5,i+1)\n",
    "    plt.xticks([])\n",
    "    plt.yticks([])\n",
    "    plt.grid(False)\n",
    "    plt.imshow(x_train[i], cmap=plt.cm.binary)\n",
    "    plt.xlabel(class_names[y_train[i]])\n",
    "plt.show()"
   ]
  },
  {
   "cell_type": "code",
   "execution_count": 9,
   "metadata": {},
   "outputs": [
    {
     "name": "stdout",
     "output_type": "stream",
     "text": [
      "Epoch 1/10\n",
      "1875/1875 [==============================] - 1s 622us/step - loss: 0.6264 - accuracy: 0.7837\n",
      "Epoch 2/10\n",
      "1875/1875 [==============================] - 1s 630us/step - loss: 0.3850 - accuracy: 0.8598\n",
      "Epoch 3/10\n",
      "1875/1875 [==============================] - 1s 622us/step - loss: 0.3406 - accuracy: 0.8744\n",
      "Epoch 4/10\n",
      "1875/1875 [==============================] - 1s 619us/step - loss: 0.3170 - accuracy: 0.8843\n",
      "Epoch 5/10\n",
      "1875/1875 [==============================] - 1s 621us/step - loss: 0.2944 - accuracy: 0.8906\n",
      "Epoch 6/10\n",
      "1875/1875 [==============================] - 1s 621us/step - loss: 0.2836 - accuracy: 0.8964\n",
      "Epoch 7/10\n",
      "1875/1875 [==============================] - 1s 617us/step - loss: 0.2664 - accuracy: 0.9020\n",
      "Epoch 8/10\n",
      "1875/1875 [==============================] - 1s 620us/step - loss: 0.2567 - accuracy: 0.9044\n",
      "Epoch 9/10\n",
      "1875/1875 [==============================] - 1s 621us/step - loss: 0.2470 - accuracy: 0.9097\n",
      "Epoch 10/10\n",
      "1875/1875 [==============================] - 1s 614us/step - loss: 0.2364 - accuracy: 0.9116\n",
      "1875/1875 - 1s - loss: 0.2185 - accuracy: 0.9192\n",
      "\n",
      "Test accuracy: 0.9192000031471252\n"
     ]
    }
   ],
   "source": [
    "# Now, we can create our model\n",
    "model = Sequential([\n",
    "    keras.layers.Flatten(input_shape=(28, 28)),\n",
    "    Dense(128,activation='relu'),\n",
    "    Dense(10)\n",
    "])\n",
    "# We compile our model with \n",
    "model.compile(optimizer='adam',\n",
    "              loss=keras.losses.SparseCategoricalCrossentropy(from_logits=True),\n",
    "              metrics=['accuracy'])\n",
    "# We start the training\n",
    "model.fit(x_train, y_train, epochs=10)\n",
    "# Evaluate the accuracy of the result\n",
    "test_loss, test_acc = model.evaluate(x_train,  y_train, verbose=2)\n",
    "print('\\nTest accuracy:', test_acc)"
   ]
  },
  {
   "cell_type": "code",
   "execution_count": 17,
   "metadata": {},
   "outputs": [
    {
     "data": {
      "text/plain": [
       "array([4.2753413e-06, 1.6459574e-09, 8.2983211e-09, 2.3030192e-10,\n",
       "       1.6871320e-07, 2.5675945e-02, 5.6971262e-06, 8.2987221e-03,\n",
       "       1.1373364e-06, 9.6601403e-01], dtype=float32)"
      ]
     },
     "execution_count": 17,
     "metadata": {},
     "output_type": "execute_result"
    }
   ],
   "source": [
    "# Some precidiction\n",
    "probability_model = keras.Sequential([model, \n",
    "                                         keras.layers.Softmax()])\n",
    "predictions = probability_model.predict(x_test)\n",
    "predictions[0]"
   ]
  },
  {
   "cell_type": "code",
   "execution_count": 18,
   "metadata": {},
   "outputs": [
    {
     "data": {
      "text/plain": [
       "9"
      ]
     },
     "execution_count": 18,
     "metadata": {},
     "output_type": "execute_result"
    }
   ],
   "source": [
    "# A prediction is an array of 10 numbers.\n",
    "# The position of the higher value is the position of the corresponding label\n",
    "np.argmax(predictions[0])"
   ]
  },
  {
   "cell_type": "code",
   "execution_count": 19,
   "metadata": {},
   "outputs": [
    {
     "data": {
      "image/png": "[encoded data removed]",
      "text/plain": [
       "<Figure size 432x216 with 2 Axes>"
      ]
     },
     "metadata": {
      "needs_background": "light"
     },
     "output_type": "display_data"
    }
   ],
   "source": [
    "# \n",
    "def plot_image(i, predictions_array, true_label, img):\n",
    "  true_label, img = true_label[i], img[i]\n",
    "  plt.grid(False)\n",
    "  plt.xticks([])\n",
    "  plt.yticks([])\n",
    "\n",
    "  plt.imshow(img, cmap=plt.cm.binary)\n",
    "\n",
    "  predicted_label = np.argmax(predictions_array)\n",
    "  if predicted_label == true_label:\n",
    "    color = 'blue'\n",
    "  else:\n",
    "    color = 'red'\n",
    "\n",
    "  plt.xlabel(\"{} {:2.0f}% ({})\".format(class_names[predicted_label],\n",
    "                                100*np.max(predictions_array),\n",
    "                                class_names[true_label]),\n",
    "                                color=color)\n",
    "\n",
    "def plot_value_array(i, predictions_array, true_label):\n",
    "  true_label = true_label[i]\n",
    "  plt.grid(False)\n",
    "  plt.xticks(range(10))\n",
    "  plt.yticks([])\n",
    "  thisplot = plt.bar(range(10), predictions_array, color=\"#777777\")\n",
    "  plt.ylim([0, 1])\n",
    "  predicted_label = np.argmax(predictions_array)\n",
    "\n",
    "  thisplot[predicted_label].set_color('red')\n",
    "  thisplot[true_label].set_color('blue')\n",
    "\n",
    "# The graphic representation of the ten categories using the two functions above\n",
    "i = 0\n",
    "plt.figure(figsize=(6,3))\n",
    "plt.subplot(1,2,1)\n",
    "plot_image(i, predictions[i], y_test, x_test)\n",
    "plt.subplot(1,2,2)\n",
    "plot_value_array(i, predictions[i],  y_test)\n",
    "plt.show()"
   ]
  },
  {
   "cell_type": "code",
   "execution_count": 20,
   "metadata": {},
   "outputs": [
    {
     "data": {
      "image/png": "[encoded data removed]",
      "text/plain": [
       "<Figure size 432x216 with 2 Axes>"
      ]
     },
     "metadata": {
      "needs_background": "light"
     },
     "output_type": "display_data"
    }
   ],
   "source": [
    "i = 12\n",
    "plt.figure(figsize=(6,3))\n",
    "plt.subplot(1,2,1)\n",
    "plot_image(i, predictions[i], y_test, x_test)\n",
    "plt.subplot(1,2,2)\n",
    "plot_value_array(i, predictions[i],  y_test)\n",
    "plt.show()"
   ]
  },
  {
   "cell_type": "code",
   "execution_count": 21,
   "metadata": {},
   "outputs": [
    {
     "data": {
      "image/png": "[encoded data removed]",
      "text/plain": [
       "<Figure size 864x720 with 30 Axes>"
      ]
     },
     "metadata": {
      "needs_background": "light"
     },
     "output_type": "display_data"
    }
   ],
   "source": [
    "# Plot the first X test images, their predicted labels, and the true labels.\n",
    "# Color correct predictions in blue and incorrect predictions in red.\n",
    "num_rows = 5\n",
    "num_cols = 3\n",
    "num_images = num_rows*num_cols\n",
    "plt.figure(figsize=(2*2*num_cols, 2*num_rows))\n",
    "for i in range(num_images):\n",
    "  plt.subplot(num_rows, 2*num_cols, 2*i+1)\n",
    "  plot_image(i, predictions[i], y_test, x_test)\n",
    "  plt.subplot(num_rows, 2*num_cols, 2*i+2)\n",
    "  plot_value_array(i, predictions[i], y_test)\n",
    "plt.tight_layout()\n",
    "plt.show()"
   ]
  },
  {
   "cell_type": "code",
   "execution_count": 48,
   "metadata": {},
   "outputs": [
    {
     "name": "stdout",
     "output_type": "stream",
     "text": [
      "image shape :  (28, 28)\n",
      "new image shape :  (1, 28, 28)\n",
      "prediction array :  [[3.1791348e-04 7.7198122e-14 9.9830830e-01 4.3252527e-11 6.7600468e-04\n",
      "  9.3299959e-16 6.9789222e-04 3.5144627e-14 1.8247103e-09 9.9384090e-14]]\n"
     ]
    },
    {
     "data": {
      "text/plain": [
       "2"
      ]
     },
     "execution_count": 48,
     "metadata": {},
     "output_type": "execute_result"
    },
    {
     "data": {
      "image/png": "[encoded data removed]",
      "text/plain": [
       "<Figure size 432x216 with 2 Axes>"
      ]
     },
     "metadata": {
      "needs_background": "light"
     },
     "output_type": "display_data"
    }
   ],
   "source": [
    "# Using our training model\n",
    "\n",
    "# Grab an image from the test dataset.\n",
    "\n",
    "img = x_test[1]\n",
    "print(\"image shape : \",img.shape)\n",
    "\n",
    "# Show the image selected\n",
    "plt.figure(figsize=(6,3))\n",
    "plt.subplot(1,2,1)\n",
    "plt.imshow(x_test[1], cmap=plt.cm.binary)\n",
    "plt.xlabel(class_names[y_test[1]])\n",
    "\n",
    "# Add the image to a batch where it's the only member.\n",
    "img = (np.expand_dims(img,0))\n",
    "\n",
    "print(\"new image shape : \",img.shape)\n",
    "\n",
    "# Prediction of the correct label for this picture (ibn the form of the array of length ten we saw before)\n",
    "predictions_single = probability_model.predict(img)\n",
    "print(\"prediction array : \",predictions_single)\n",
    "\n",
    "# And to finish we just show it with more\n",
    "plt.subplot(1,2,2)\n",
    "plot_value_array(1, predictions_single[0], y_test)\n",
    "_ = plt.xticks(range(10), class_names, rotation=45)\n",
    "np.argmax(predictions_single[0])"
   ]
  },
  {
   "cell_type": "markdown",
   "metadata": {},
   "source": [
    "And to finish this part we changed some parameters to see their influence on the network"
   ]
  },
  {
   "cell_type": "code",
   "execution_count": 53,
   "metadata": {},
   "outputs": [
    {
     "name": "stdout",
     "output_type": "stream",
     "text": [
      "Epoch 1/10\n",
      "1875/1875 [==============================] - 1s 600us/step - loss: 0.7672 - accuracy: 0.7296\n",
      "Epoch 2/10\n",
      "1875/1875 [==============================] - 1s 591us/step - loss: 0.4162 - accuracy: 0.8476\n",
      "Epoch 3/10\n",
      "1875/1875 [==============================] - 1s 591us/step - loss: 0.3774 - accuracy: 0.8616\n",
      "Epoch 4/10\n",
      "1875/1875 [==============================] - 1s 594us/step - loss: 0.3504 - accuracy: 0.8684\n",
      "Epoch 5/10\n",
      "1875/1875 [==============================] - 1s 596us/step - loss: 0.3302 - accuracy: 0.8781\n",
      "Epoch 6/10\n",
      "1875/1875 [==============================] - 1s 602us/step - loss: 0.3176 - accuracy: 0.8813\n",
      "Epoch 7/10\n",
      "1875/1875 [==============================] - 1s 607us/step - loss: 0.3084 - accuracy: 0.8844\n",
      "Epoch 8/10\n",
      "1875/1875 [==============================] - 1s 617us/step - loss: 0.2968 - accuracy: 0.8894\n",
      "Epoch 9/10\n",
      "1875/1875 [==============================] - 1s 597us/step - loss: 0.2861 - accuracy: 0.8930\n",
      "Epoch 10/10\n",
      "1875/1875 [==============================] - 1s 589us/step - loss: 0.2839 - accuracy: 0.8923\n",
      "1875/1875 - 1s - loss: 0.2766 - accuracy: 0.8977\n",
      "\n",
      "Test accuracy: 0.8976666927337646\n"
     ]
    }
   ],
   "source": [
    "# We are going to recreate our model by changing the topology of it\n",
    "# With more hidden layers but the same number of neutrons\n",
    "\n",
    "# \n",
    "\n",
    "fashion_mnist = keras.datasets.fashion_mnist\n",
    "(x_train, y_train), (x_test, y_test) = fashion_mnist.load_data()\n",
    "x_train = x_train / 255.0\n",
    "x_test = x_test / 255.0\n",
    "\n",
    "# loading of the model\n",
    "\n",
    "model = Sequential([\n",
    "    keras.layers.Flatten(input_shape=(28, 28)),\n",
    "    Dense(32,activation='relu'),\n",
    "    Dense(32,activation='relu'),\n",
    "    Dense(32,activation='relu'),\n",
    "    Dense(32,activation='relu'),\n",
    "    Dense(10)\n",
    "])\n",
    "# We compile our model with \n",
    "model.compile(optimizer='adam',\n",
    "              loss=keras.losses.SparseCategoricalCrossentropy(from_logits=True),\n",
    "              metrics=['accuracy'])\n",
    "# We start the training\n",
    "model.fit(x_train, y_train, epochs=10)\n",
    "# Evaluate the accuracy of the result\n",
    "test_loss, test_acc = model.evaluate(x_train,  y_train, verbose=2)\n",
    "print('\\nTest accuracy:', test_acc)"
   ]
  },
  {
   "cell_type": "code",
   "execution_count": 55,
   "metadata": {},
   "outputs": [
    {
     "name": "stdout",
     "output_type": "stream",
     "text": [
      "Epoch 1/10\n",
      "1875/1875 [==============================] - 2s 896us/step - loss: 0.6549 - accuracy: 0.7632\n",
      "Epoch 2/10\n",
      "1875/1875 [==============================] - 2s 891us/step - loss: 0.3779 - accuracy: 0.8614\n",
      "Epoch 3/10\n",
      "1875/1875 [==============================] - 2s 894us/step - loss: 0.3405 - accuracy: 0.8751\n",
      "Epoch 4/10\n",
      "1875/1875 [==============================] - 2s 901us/step - loss: 0.3067 - accuracy: 0.8863\n",
      "Epoch 5/10\n",
      "1875/1875 [==============================] - 2s 904us/step - loss: 0.2969 - accuracy: 0.8882\n",
      "Epoch 6/10\n",
      "1875/1875 [==============================] - 2s 912us/step - loss: 0.2828 - accuracy: 0.8933\n",
      "Epoch 7/10\n",
      "1875/1875 [==============================] - 2s 904us/step - loss: 0.2740 - accuracy: 0.8979\n",
      "Epoch 8/10\n",
      "1875/1875 [==============================] - 2s 899us/step - loss: 0.2637 - accuracy: 0.9000\n",
      "Epoch 9/10\n",
      "1875/1875 [==============================] - 2s 902us/step - loss: 0.2512 - accuracy: 0.9063\n",
      "Epoch 10/10\n",
      "1875/1875 [==============================] - 2s 891us/step - loss: 0.2427 - accuracy: 0.9089\n",
      "1875/1875 - 1s - loss: 0.2211 - accuracy: 0.9161\n",
      "\n",
      "Test accuracy: 0.9161499738693237\n"
     ]
    }
   ],
   "source": [
    "# We are going to recreate our model by changing the topology and the layer size of it\n",
    "# With more hidden layers but the same number of neutrons per hidden layer as the original one\n",
    "\n",
    "# \n",
    "\n",
    "fashion_mnist = keras.datasets.fashion_mnist\n",
    "(x_train, y_train), (x_test, y_test) = fashion_mnist.load_data()\n",
    "x_train = x_train / 255.0\n",
    "x_test = x_test / 255.0\n",
    "\n",
    "# loading of the model\n",
    "\n",
    "model = Sequential([\n",
    "    keras.layers.Flatten(input_shape=(28, 28)),\n",
    "    Dense(128,activation='relu'),\n",
    "    Dense(128,activation='relu'),\n",
    "    Dense(128,activation='relu'),\n",
    "    Dense(128,activation='relu'),\n",
    "    Dense(10)\n",
    "])\n",
    "# We compile our model with \n",
    "model.compile(optimizer='adam',\n",
    "              loss=keras.losses.SparseCategoricalCrossentropy(from_logits=True),\n",
    "              metrics=['accuracy'])\n",
    "# We start the training\n",
    "model.fit(x_train, y_train, epochs=10)\n",
    "# Evaluate the accuracy of the result\n",
    "test_loss, test_acc = model.evaluate(x_train,  y_train, verbose=2)\n",
    "print('\\nTest accuracy:', test_acc)"
   ]
  },
  {
   "cell_type": "code",
   "execution_count": 56,
   "metadata": {},
   "outputs": [
    {
     "name": "stdout",
     "output_type": "stream",
     "text": [
      "Epoch 1/10\n",
      "1875/1875 [==============================] - 1s 473us/step - loss: 2.0583 - accuracy: 0.2137\n",
      "Epoch 2/10\n",
      "1875/1875 [==============================] - 1s 477us/step - loss: 1.8685 - accuracy: 0.2844\n",
      "Epoch 3/10\n",
      "1875/1875 [==============================] - 1s 482us/step - loss: 1.8441 - accuracy: 0.2856\n",
      "Epoch 4/10\n",
      "1875/1875 [==============================] - 1s 477us/step - loss: 1.8387 - accuracy: 0.2843\n",
      "Epoch 5/10\n",
      "1875/1875 [==============================] - 1s 480us/step - loss: 1.8374 - accuracy: 0.2834\n",
      "Epoch 6/10\n",
      "1875/1875 [==============================] - 1s 482us/step - loss: 1.8305 - accuracy: 0.2845\n",
      "Epoch 7/10\n",
      "1875/1875 [==============================] - 1s 479us/step - loss: 1.8176 - accuracy: 0.2882\n",
      "Epoch 8/10\n",
      "1875/1875 [==============================] - 1s 474us/step - loss: 1.8178 - accuracy: 0.2857\n",
      "Epoch 9/10\n",
      "1875/1875 [==============================] - 1s 472us/step - loss: 1.8283 - accuracy: 0.2811\n",
      "Epoch 10/10\n",
      "1875/1875 [==============================] - 1s 474us/step - loss: 1.8201 - accuracy: 0.2845\n",
      "1875/1875 - 1s - loss: 1.8192 - accuracy: 0.2823\n",
      "\n",
      "Test accuracy: 0.2823333442211151\n"
     ]
    }
   ],
   "source": [
    "# We are going to recreate our model by changing the topology of it\n",
    "# Without any hidden layers\n",
    "\n",
    "# \n",
    "\n",
    "fashion_mnist = keras.datasets.fashion_mnist\n",
    "(x_train, y_train), (x_test, y_test) = fashion_mnist.load_data()\n",
    "x_train = x_train / 255.0\n",
    "x_test = x_test / 255.0\n",
    "\n",
    "# loading of the model\n",
    "\n",
    "model = Sequential([\n",
    "    keras.layers.Flatten(input_shape=(28, 28)),\n",
    "    Dense(10,activation='relu')\n",
    "])\n",
    "# We compile our model with \n",
    "model.compile(optimizer='adam',\n",
    "              loss=keras.losses.SparseCategoricalCrossentropy(from_logits=True),\n",
    "              metrics=['accuracy'])\n",
    "# We start the training\n",
    "model.fit(x_train, y_train, epochs=10)\n",
    "# Evaluate the accuracy of the result\n",
    "test_loss, test_acc = model.evaluate(x_train,  y_train, verbose=2)\n",
    "print('\\nTest accuracy:', test_acc)"
   ]
  },
  {
   "cell_type": "code",
   "execution_count": 59,
   "metadata": {},
   "outputs": [
    {
     "name": "stdout",
     "output_type": "stream",
     "text": [
      "Epoch 1/10\n",
      "1875/1875 [==============================] - 1s 493us/step - loss: 0.9463 - accuracy: 0.6748\n",
      "Epoch 2/10\n",
      "1875/1875 [==============================] - 1s 492us/step - loss: 0.4796 - accuracy: 0.8328\n",
      "Epoch 3/10\n",
      "1875/1875 [==============================] - 1s 490us/step - loss: 0.4420 - accuracy: 0.8471\n",
      "Epoch 4/10\n",
      "1875/1875 [==============================] - 1s 495us/step - loss: 0.4232 - accuracy: 0.8535\n",
      "Epoch 5/10\n",
      "1875/1875 [==============================] - 1s 494us/step - loss: 0.4080 - accuracy: 0.8575\n",
      "Epoch 6/10\n",
      "1875/1875 [==============================] - 1s 497us/step - loss: 0.4111 - accuracy: 0.8567\n",
      "Epoch 7/10\n",
      "1875/1875 [==============================] - 1s 496us/step - loss: 0.3970 - accuracy: 0.8621\n",
      "Epoch 8/10\n",
      "1875/1875 [==============================] - 1s 494us/step - loss: 0.3912 - accuracy: 0.8632\n",
      "Epoch 9/10\n",
      "1875/1875 [==============================] - 1s 494us/step - loss: 0.3904 - accuracy: 0.8638\n",
      "Epoch 10/10\n",
      "1875/1875 [==============================] - 1s 502us/step - loss: 0.3837 - accuracy: 0.8651\n",
      "1875/1875 - 1s - loss: 0.3712 - accuracy: 0.8684\n",
      "\n",
      "Test accuracy: 0.8684166669845581\n"
     ]
    }
   ],
   "source": [
    "# We are going to recreate our model by changing the layer size of it\n",
    "\n",
    "# Decrease the size of the hidden layer \n",
    "\n",
    "fashion_mnist = keras.datasets.fashion_mnist\n",
    "(x_train, y_train), (x_test, y_test) = fashion_mnist.load_data()\n",
    "x_train = x_train / 255.0\n",
    "x_test = x_test / 255.0\n",
    "\n",
    "# loading of the model\n",
    "\n",
    "model = Sequential([\n",
    "    keras.layers.Flatten(input_shape=(28, 28)),\n",
    "    Dense(10,activation='relu'),\n",
    "    Dense(10)\n",
    "])\n",
    "# We compile our model with \n",
    "model.compile(optimizer='adam',\n",
    "              loss=keras.losses.SparseCategoricalCrossentropy(from_logits=True),\n",
    "              metrics=['accuracy'])\n",
    "# We start the training\n",
    "model.fit(x_train, y_train, epochs=10)\n",
    "# Evaluate the accuracy of the result\n",
    "test_loss, test_acc = model.evaluate(x_train,  y_train, verbose=2)\n",
    "print('\\nTest accuracy:', test_acc)"
   ]
  },
  {
   "cell_type": "code",
   "execution_count": null,
   "metadata": {},
   "outputs": [],
   "source": [
    "# We are going to recreate our model by changing the layer size of it\n",
    "\n",
    "# Increase the size of the hidden layer\n",
    "\n",
    "fashion_mnist = keras.datasets.fashion_mnist\n",
    "(x_train, y_train), (x_test, y_test) = fashion_mnist.load_data()\n",
    "x_train = x_train / 255.0\n",
    "x_test = x_test / 255.0\n",
    "\n",
    "# loading of the model\n",
    "\n",
    "model = Sequential([\n",
    "    keras.layers.Flatten(input_shape=(28, 28)),\n",
    "    Dense(400,activation='relu'),\n",
    "    Dense(10)\n",
    "])\n",
    "# We compile our model with \n",
    "model.compile(optimizer='adam',\n",
    "              loss=keras.losses.SparseCategoricalCrossentropy(from_logits=True),\n",
    "              metrics=['accuracy'])\n",
    "# We start the training\n",
    "model.fit(x_train, y_train, epochs=10)\n",
    "# Evaluate the accuracy of the result\n",
    "test_loss, test_acc = model.evaluate(x_train,  y_train, verbose=2)\n",
    "print('\\nTest accuracy:', test_acc)"
   ]
  },
  {
   "cell_type": "code",
   "execution_count": 60,
   "metadata": {},
   "outputs": [
    {
     "name": "stdout",
     "output_type": "stream",
     "text": [
      "Epoch 1/10\n",
      "1875/1875 [==============================] - 3s 1ms/step - loss: 0.6594 - accuracy: 0.7738\n",
      "Epoch 2/10\n",
      "1875/1875 [==============================] - 2s 1ms/step - loss: 0.3974 - accuracy: 0.8561\n",
      "Epoch 3/10\n",
      "1875/1875 [==============================] - 2s 1ms/step - loss: 0.3502 - accuracy: 0.8721\n",
      "Epoch 4/10\n",
      "1875/1875 [==============================] - 2s 1ms/step - loss: 0.3175 - accuracy: 0.8818\n",
      "Epoch 5/10\n",
      "1875/1875 [==============================] - 2s 1ms/step - loss: 0.2978 - accuracy: 0.8911\n",
      "Epoch 6/10\n",
      "1875/1875 [==============================] - 2s 1ms/step - loss: 0.2784 - accuracy: 0.8964\n",
      "Epoch 7/10\n",
      "1875/1875 [==============================] - 2s 1ms/step - loss: 0.2610 - accuracy: 0.9037\n",
      "Epoch 8/10\n",
      "1875/1875 [==============================] - 2s 1ms/step - loss: 0.2438 - accuracy: 0.9091\n",
      "Epoch 9/10\n",
      "1875/1875 [==============================] - 2s 1ms/step - loss: 0.2388 - accuracy: 0.9099\n",
      "Epoch 10/10\n",
      "1875/1875 [==============================] - 2s 1ms/step - loss: 0.2221 - accuracy: 0.9180\n",
      "1875/1875 - 1s - loss: 0.2058 - accuracy: 0.9237\n",
      "\n",
      "Test accuracy: 0.9237499833106995\n"
     ]
    }
   ],
   "source": [
    "# We are going to recreate our model by changing the activation functions of it\n",
    "\n",
    "# Increase the size of the hidden layer\n",
    "\n",
    "fashion_mnist = keras.datasets.fashion_mnist\n",
    "(x_train, y_train), (x_test, y_test) = fashion_mnist.load_data()\n",
    "x_train = x_train / 255.0\n",
    "x_test = x_test / 255.0\n",
    "\n",
    "# loading of the model\n",
    "\n",
    "model = Sequential([\n",
    "    keras.layers.Flatten(input_shape=(28, 28)),\n",
    "    Dense(400,activation='relu'),\n",
    "    Dense(10)\n",
    "])\n",
    "# We compile our model with \n",
    "model.compile(optimizer='adam',\n",
    "              loss=keras.losses.SparseCategoricalCrossentropy(from_logits=True),\n",
    "              metrics=['accuracy'])\n",
    "# We start the training\n",
    "model.fit(x_train, y_train, epochs=10)\n",
    "# Evaluate the accuracy of the result\n",
    "test_loss, test_acc = model.evaluate(x_train,  y_train, verbose=2)\n",
    "print('\\nTest accuracy:', test_acc)"
   ]
  },
  {
   "cell_type": "code",
   "execution_count": 61,
   "metadata": {},
   "outputs": [
    {
     "name": "stdout",
     "output_type": "stream",
     "text": [
      "Epoch 1/10\n",
      "1875/1875 [==============================] - 1s 636us/step - loss: 0.7224 - accuracy: 0.7657\n",
      "Epoch 2/10\n",
      "1875/1875 [==============================] - 1s 638us/step - loss: 0.4009 - accuracy: 0.8554\n",
      "Epoch 3/10\n",
      "1875/1875 [==============================] - 1s 641us/step - loss: 0.3626 - accuracy: 0.8673\n",
      "Epoch 4/10\n",
      "1875/1875 [==============================] - 1s 650us/step - loss: 0.3297 - accuracy: 0.8805\n",
      "Epoch 5/10\n",
      "1875/1875 [==============================] - 1s 647us/step - loss: 0.3159 - accuracy: 0.8854\n",
      "Epoch 6/10\n",
      "1875/1875 [==============================] - 1s 643us/step - loss: 0.2991 - accuracy: 0.8900\n",
      "Epoch 7/10\n",
      "1875/1875 [==============================] - 1s 647us/step - loss: 0.2811 - accuracy: 0.8960\n",
      "Epoch 8/10\n",
      "1875/1875 [==============================] - 1s 661us/step - loss: 0.2688 - accuracy: 0.9029\n",
      "Epoch 9/10\n",
      "1875/1875 [==============================] - 1s 649us/step - loss: 0.2589 - accuracy: 0.9036\n",
      "Epoch 10/10\n",
      "1875/1875 [==============================] - 1s 645us/step - loss: 0.2540 - accuracy: 0.9066\n",
      "1875/1875 - 1s - loss: 0.2475 - accuracy: 0.9068\n",
      "\n",
      "Test accuracy: 0.9068499803543091\n"
     ]
    }
   ],
   "source": [
    "# We are going to recreate our model by changing the activation functions of it\n",
    "\n",
    "# The sigmoid activation function\n",
    "\n",
    "fashion_mnist = keras.datasets.fashion_mnist\n",
    "(x_train, y_train), (x_test, y_test) = fashion_mnist.load_data()\n",
    "x_train = x_train / 255.0\n",
    "x_test = x_test / 255.0\n",
    "\n",
    "# loading of the model\n",
    "\n",
    "model = Sequential([\n",
    "    keras.layers.Flatten(input_shape=(28, 28)),\n",
    "    Dense(128,activation='sigmoid'),\n",
    "    Dense(10)\n",
    "])\n",
    "# We compile our model with \n",
    "model.compile(optimizer='adam',\n",
    "              loss=keras.losses.SparseCategoricalCrossentropy(from_logits=True),\n",
    "              metrics=['accuracy'])\n",
    "# We start the training\n",
    "model.fit(x_train, y_train, epochs=10)\n",
    "# Evaluate the accuracy of the result\n",
    "test_loss, test_acc = model.evaluate(x_train,  y_train, verbose=2)\n",
    "print('\\nTest accuracy:', test_acc)"
   ]
  },
  {
   "cell_type": "code",
   "execution_count": 62,
   "metadata": {},
   "outputs": [
    {
     "name": "stdout",
     "output_type": "stream",
     "text": [
      "Epoch 1/10\n",
      "1875/1875 [==============================] - 1s 658us/step - loss: 1.7258 - accuracy: 0.5737\n",
      "Epoch 2/10\n",
      "1875/1875 [==============================] - 1s 663us/step - loss: 0.8868 - accuracy: 0.6712\n",
      "Epoch 3/10\n",
      "1875/1875 [==============================] - 1s 664us/step - loss: 0.7471 - accuracy: 0.6853\n",
      "Epoch 4/10\n",
      "1875/1875 [==============================] - 1s 668us/step - loss: 0.6872 - accuracy: 0.7117\n",
      "Epoch 5/10\n",
      "1875/1875 [==============================] - 1s 661us/step - loss: 0.6411 - accuracy: 0.7387\n",
      "Epoch 6/10\n",
      "1875/1875 [==============================] - 1s 670us/step - loss: 0.6107 - accuracy: 0.7494\n",
      "Epoch 7/10\n",
      "1875/1875 [==============================] - 1s 660us/step - loss: 0.5851 - accuracy: 0.7663\n",
      "Epoch 8/10\n",
      "1875/1875 [==============================] - 1s 657us/step - loss: 0.5474 - accuracy: 0.7926\n",
      "Epoch 9/10\n",
      "1875/1875 [==============================] - 1s 652us/step - loss: 0.5213 - accuracy: 0.8075\n",
      "Epoch 10/10\n",
      "1875/1875 [==============================] - 1s 667us/step - loss: 0.5001 - accuracy: 0.8179\n",
      "1875/1875 - 1s - loss: 0.4828 - accuracy: 0.8275\n",
      "\n",
      "Test accuracy: 0.8275333046913147\n"
     ]
    }
   ],
   "source": [
    "# We are going to recreate our model by changing the activation functions of it\n",
    "\n",
    "# The softmax activation function\n",
    "\n",
    "fashion_mnist = keras.datasets.fashion_mnist\n",
    "(x_train, y_train), (x_test, y_test) = fashion_mnist.load_data()\n",
    "x_train = x_train / 255.0\n",
    "x_test = x_test / 255.0\n",
    "\n",
    "# loading of the model\n",
    "\n",
    "model = Sequential([\n",
    "    keras.layers.Flatten(input_shape=(28, 28)),\n",
    "    Dense(128,activation='softmax'),\n",
    "    Dense(10)\n",
    "])\n",
    "# We compile our model with \n",
    "model.compile(optimizer='adam',\n",
    "              loss=keras.losses.SparseCategoricalCrossentropy(from_logits=True),\n",
    "              metrics=['accuracy'])\n",
    "# We start the training\n",
    "model.fit(x_train, y_train, epochs=10)\n",
    "# Evaluate the accuracy of the result\n",
    "test_loss, test_acc = model.evaluate(x_train,  y_train, verbose=2)\n",
    "print('\\nTest accuracy:', test_acc)"
   ]
  },
  {
   "cell_type": "code",
   "execution_count": 63,
   "metadata": {},
   "outputs": [
    {
     "name": "stdout",
     "output_type": "stream",
     "text": [
      "Epoch 1/10\n",
      "1875/1875 [==============================] - 1s 672us/step - loss: 0.6305 - accuracy: 0.7835\n",
      "Epoch 2/10\n",
      "1875/1875 [==============================] - 1s 662us/step - loss: 0.3916 - accuracy: 0.8589\n",
      "Epoch 3/10\n",
      "1875/1875 [==============================] - 1s 667us/step - loss: 0.3514 - accuracy: 0.8715\n",
      "Epoch 4/10\n",
      "1875/1875 [==============================] - 1s 665us/step - loss: 0.3207 - accuracy: 0.8807\n",
      "Epoch 5/10\n",
      "1875/1875 [==============================] - 1s 665us/step - loss: 0.2958 - accuracy: 0.8907\n",
      "Epoch 6/10\n",
      "1875/1875 [==============================] - 1s 670us/step - loss: 0.2803 - accuracy: 0.8964\n",
      "Epoch 7/10\n",
      "1875/1875 [==============================] - 1s 674us/step - loss: 0.2677 - accuracy: 0.9002\n",
      "Epoch 8/10\n",
      "1875/1875 [==============================] - 1s 673us/step - loss: 0.2529 - accuracy: 0.9054\n",
      "Epoch 9/10\n",
      "1875/1875 [==============================] - 1s 674us/step - loss: 0.2447 - accuracy: 0.9072\n",
      "Epoch 10/10\n",
      "1875/1875 [==============================] - 1s 670us/step - loss: 0.2311 - accuracy: 0.9132\n",
      "1875/1875 - 1s - loss: 0.2195 - accuracy: 0.9167\n",
      "\n",
      "Test accuracy: 0.9167333245277405\n"
     ]
    }
   ],
   "source": [
    "# We are going to recreate our model by changing the activation functions of it\n",
    "\n",
    "# The softplus activation function\n",
    "\n",
    "fashion_mnist = keras.datasets.fashion_mnist\n",
    "(x_train, y_train), (x_test, y_test) = fashion_mnist.load_data()\n",
    "x_train = x_train / 255.0\n",
    "x_test = x_test / 255.0\n",
    "\n",
    "# loading of the model\n",
    "\n",
    "model = Sequential([\n",
    "    keras.layers.Flatten(input_shape=(28, 28)),\n",
    "    Dense(128,activation='softplus'),\n",
    "    Dense(10)\n",
    "])\n",
    "# We compile our model with \n",
    "model.compile(optimizer='adam',\n",
    "              loss=keras.losses.SparseCategoricalCrossentropy(from_logits=True),\n",
    "              metrics=['accuracy'])\n",
    "# We start the training\n",
    "model.fit(x_train, y_train, epochs=10)\n",
    "# Evaluate the accuracy of the result\n",
    "test_loss, test_acc = model.evaluate(x_train,  y_train, verbose=2)\n",
    "print('\\nTest accuracy:', test_acc)"
   ]
  },
  {
   "cell_type": "code",
   "execution_count": 64,
   "metadata": {},
   "outputs": [
    {
     "name": "stdout",
     "output_type": "stream",
     "text": [
      "Epoch 1/10\n",
      "1875/1875 [==============================] - 1s 629us/step - loss: 0.6190 - accuracy: 0.7835\n",
      "Epoch 2/10\n",
      "1875/1875 [==============================] - 1s 649us/step - loss: 0.3809 - accuracy: 0.8620\n",
      "Epoch 3/10\n",
      "1875/1875 [==============================] - 1s 644us/step - loss: 0.3485 - accuracy: 0.8740\n",
      "Epoch 4/10\n",
      "1875/1875 [==============================] - 1s 649us/step - loss: 0.3291 - accuracy: 0.8784\n",
      "Epoch 5/10\n",
      "1875/1875 [==============================] - 1s 651us/step - loss: 0.3073 - accuracy: 0.8884\n",
      "Epoch 6/10\n",
      "1875/1875 [==============================] - 1s 649us/step - loss: 0.2971 - accuracy: 0.8913\n",
      "Epoch 7/10\n",
      "1875/1875 [==============================] - 1s 642us/step - loss: 0.2849 - accuracy: 0.8940\n",
      "Epoch 8/10\n",
      "1875/1875 [==============================] - 1s 637us/step - loss: 0.2749 - accuracy: 0.8971\n",
      "Epoch 9/10\n",
      "1875/1875 [==============================] - 1s 641us/step - loss: 0.2631 - accuracy: 0.9021\n",
      "Epoch 10/10\n",
      "1875/1875 [==============================] - 1s 635us/step - loss: 0.2568 - accuracy: 0.9046\n",
      "1875/1875 - 1s - loss: 0.2366 - accuracy: 0.9143\n",
      "\n",
      "Test accuracy: 0.9143000245094299\n"
     ]
    }
   ],
   "source": [
    "# We are going to recreate our model by changing the activation functions of it\n",
    "\n",
    "# The softsign activation function\n",
    "\n",
    "fashion_mnist = keras.datasets.fashion_mnist\n",
    "(x_train, y_train), (x_test, y_test) = fashion_mnist.load_data()\n",
    "x_train = x_train / 255.0\n",
    "x_test = x_test / 255.0\n",
    "\n",
    "# loading of the model\n",
    "\n",
    "model = Sequential([\n",
    "    keras.layers.Flatten(input_shape=(28, 28)),\n",
    "    Dense(128,activation='softsign'),\n",
    "    Dense(10)\n",
    "])\n",
    "# We compile our model with \n",
    "model.compile(optimizer='adam',\n",
    "              loss=keras.losses.SparseCategoricalCrossentropy(from_logits=True),\n",
    "              metrics=['accuracy'])\n",
    "# We start the training\n",
    "model.fit(x_train, y_train, epochs=10)\n",
    "# Evaluate the accuracy of the result\n",
    "test_loss, test_acc = model.evaluate(x_train,  y_train, verbose=2)\n",
    "print('\\nTest accuracy:', test_acc)"
   ]
  },
  {
   "cell_type": "code",
   "execution_count": 65,
   "metadata": {},
   "outputs": [
    {
     "name": "stdout",
     "output_type": "stream",
     "text": [
      "Epoch 1/10\n",
      "1875/1875 [==============================] - 1s 659us/step - loss: 0.6069 - accuracy: 0.7860\n",
      "Epoch 2/10\n",
      "1875/1875 [==============================] - 1s 667us/step - loss: 0.3662 - accuracy: 0.8674\n",
      "Epoch 3/10\n",
      "1875/1875 [==============================] - 1s 664us/step - loss: 0.3380 - accuracy: 0.8758\n",
      "Epoch 4/10\n",
      "1875/1875 [==============================] - 1s 663us/step - loss: 0.3174 - accuracy: 0.8836\n",
      "Epoch 5/10\n",
      "1875/1875 [==============================] - 1s 659us/step - loss: 0.2989 - accuracy: 0.8884\n",
      "Epoch 6/10\n",
      "1875/1875 [==============================] - 1s 663us/step - loss: 0.2843 - accuracy: 0.8939\n",
      "Epoch 7/10\n",
      "1875/1875 [==============================] - 1s 663us/step - loss: 0.2673 - accuracy: 0.9001\n",
      "Epoch 8/10\n",
      "1875/1875 [==============================] - 1s 670us/step - loss: 0.2568 - accuracy: 0.9040\n",
      "Epoch 9/10\n",
      "1875/1875 [==============================] - 1s 681us/step - loss: 0.2496 - accuracy: 0.9058\n",
      "Epoch 10/10\n",
      "1875/1875 [==============================] - 1s 678us/step - loss: 0.2433 - accuracy: 0.9098\n",
      "1875/1875 - 1s - loss: 0.2308 - accuracy: 0.9137\n",
      "\n",
      "Test accuracy: 0.9137166738510132\n"
     ]
    }
   ],
   "source": [
    "# We are going to recreate our model by changing the activation functions of it\n",
    "\n",
    "# The tanh activation function\n",
    "\n",
    "fashion_mnist = keras.datasets.fashion_mnist\n",
    "(x_train, y_train), (x_test, y_test) = fashion_mnist.load_data()\n",
    "x_train = x_train / 255.0\n",
    "x_test = x_test / 255.0\n",
    "\n",
    "# loading of the model\n",
    "\n",
    "model = Sequential([\n",
    "    keras.layers.Flatten(input_shape=(28, 28)),\n",
    "    Dense(128,activation='tanh'),\n",
    "    Dense(10)\n",
    "])\n",
    "# We compile our model with \n",
    "model.compile(optimizer='adam',\n",
    "              loss=keras.losses.SparseCategoricalCrossentropy(from_logits=True),\n",
    "              metrics=['accuracy'])\n",
    "# We start the training\n",
    "model.fit(x_train, y_train, epochs=10)\n",
    "# Evaluate the accuracy of the result\n",
    "test_loss, test_acc = model.evaluate(x_train,  y_train, verbose=2)\n",
    "print('\\nTest accuracy:', test_acc)"
   ]
  },
  {
   "cell_type": "code",
   "execution_count": 66,
   "metadata": {},
   "outputs": [
    {
     "name": "stdout",
     "output_type": "stream",
     "text": [
      "Epoch 1/10\n",
      "1875/1875 [==============================] - 1s 658us/step - loss: 0.6053 - accuracy: 0.7859\n",
      "Epoch 2/10\n",
      "1875/1875 [==============================] - 1s 656us/step - loss: 0.3962 - accuracy: 0.8543\n",
      "Epoch 3/10\n",
      "1875/1875 [==============================] - 1s 656us/step - loss: 0.3494 - accuracy: 0.8741\n",
      "Epoch 4/10\n",
      "1875/1875 [==============================] - 1s 671us/step - loss: 0.3292 - accuracy: 0.8803\n",
      "Epoch 5/10\n",
      "1875/1875 [==============================] - 1s 659us/step - loss: 0.3114 - accuracy: 0.8856\n",
      "Epoch 6/10\n",
      "1875/1875 [==============================] - 1s 657us/step - loss: 0.2905 - accuracy: 0.8904\n",
      "Epoch 7/10\n",
      "1875/1875 [==============================] - 1s 653us/step - loss: 0.2793 - accuracy: 0.8954\n",
      "Epoch 8/10\n",
      "1875/1875 [==============================] - 1s 665us/step - loss: 0.2642 - accuracy: 0.9012\n",
      "Epoch 9/10\n",
      "1875/1875 [==============================] - 1s 678us/step - loss: 0.2558 - accuracy: 0.9045\n",
      "Epoch 10/10\n",
      "1875/1875 [==============================] - 1s 671us/step - loss: 0.2488 - accuracy: 0.9060\n",
      "1875/1875 - 1s - loss: 0.2209 - accuracy: 0.9175\n",
      "\n",
      "Test accuracy: 0.9175333380699158\n"
     ]
    }
   ],
   "source": [
    "# We are going to recreate our model by changing the activation functions of it\n",
    "\n",
    "# The selu activation function\n",
    "\n",
    "fashion_mnist = keras.datasets.fashion_mnist\n",
    "(x_train, y_train), (x_test, y_test) = fashion_mnist.load_data()\n",
    "x_train = x_train / 255.0\n",
    "x_test = x_test / 255.0\n",
    "\n",
    "# loading of the model\n",
    "\n",
    "model = Sequential([\n",
    "    keras.layers.Flatten(input_shape=(28, 28)),\n",
    "    Dense(128,activation='selu'),\n",
    "    Dense(10)\n",
    "])\n",
    "# We compile our model with \n",
    "model.compile(optimizer='adam',\n",
    "              loss=keras.losses.SparseCategoricalCrossentropy(from_logits=True),\n",
    "              metrics=['accuracy'])\n",
    "# We start the training\n",
    "model.fit(x_train, y_train, epochs=10)\n",
    "# Evaluate the accuracy of the result\n",
    "test_loss, test_acc = model.evaluate(x_train,  y_train, verbose=2)\n",
    "print('\\nTest accuracy:', test_acc)"
   ]
  },
  {
   "cell_type": "code",
   "execution_count": 67,
   "metadata": {},
   "outputs": [
    {
     "name": "stdout",
     "output_type": "stream",
     "text": [
      "Epoch 1/10\n",
      "1875/1875 [==============================] - 1s 682us/step - loss: 0.6039 - accuracy: 0.7874\n",
      "Epoch 2/10\n",
      "1875/1875 [==============================] - 1s 673us/step - loss: 0.3916 - accuracy: 0.8571\n",
      "Epoch 3/10\n",
      "1875/1875 [==============================] - 1s 687us/step - loss: 0.3454 - accuracy: 0.8715\n",
      "Epoch 4/10\n",
      "1875/1875 [==============================] - 1s 677us/step - loss: 0.3125 - accuracy: 0.8832\n",
      "Epoch 5/10\n",
      "1875/1875 [==============================] - 1s 675us/step - loss: 0.2986 - accuracy: 0.8895\n",
      "Epoch 6/10\n",
      "1875/1875 [==============================] - 1s 714us/step - loss: 0.2785 - accuracy: 0.8945\n",
      "Epoch 7/10\n",
      "1875/1875 [==============================] - 1s 699us/step - loss: 0.2666 - accuracy: 0.9010\n",
      "Epoch 8/10\n",
      "1875/1875 [==============================] - 1s 675us/step - loss: 0.2530 - accuracy: 0.9049\n",
      "Epoch 9/10\n",
      "1875/1875 [==============================] - 1s 684us/step - loss: 0.2457 - accuracy: 0.9075\n",
      "Epoch 10/10\n",
      "1875/1875 [==============================] - 1s 663us/step - loss: 0.2326 - accuracy: 0.9121\n",
      "1875/1875 - 1s - loss: 0.2147 - accuracy: 0.9189\n",
      "\n",
      "Test accuracy: 0.9189333319664001\n"
     ]
    }
   ],
   "source": [
    "# We are going to recreate our model by changing the activation functions of it\n",
    "\n",
    "# The elu activation function\n",
    "\n",
    "fashion_mnist = keras.datasets.fashion_mnist\n",
    "(x_train, y_train), (x_test, y_test) = fashion_mnist.load_data()\n",
    "x_train = x_train / 255.0\n",
    "x_test = x_test / 255.0\n",
    "\n",
    "# loading of the model\n",
    "\n",
    "model = Sequential([\n",
    "    keras.layers.Flatten(input_shape=(28, 28)),\n",
    "    Dense(128,activation='elu'),\n",
    "    Dense(10)\n",
    "])\n",
    "# We compile our model with \n",
    "model.compile(optimizer='adam',\n",
    "              loss=keras.losses.SparseCategoricalCrossentropy(from_logits=True),\n",
    "              metrics=['accuracy'])\n",
    "# We start the training\n",
    "model.fit(x_train, y_train, epochs=10)\n",
    "# Evaluate the accuracy of the result\n",
    "test_loss, test_acc = model.evaluate(x_train,  y_train, verbose=2)\n",
    "print('\\nTest accuracy:', test_acc)"
   ]
  },
  {
   "cell_type": "code",
   "execution_count": 68,
   "metadata": {},
   "outputs": [
    {
     "name": "stdout",
     "output_type": "stream",
     "text": [
      "Epoch 1/10\n",
      "1875/1875 [==============================] - 1s 646us/step - loss: 0.6220 - accuracy: 0.7850\n",
      "Epoch 2/10\n",
      "1875/1875 [==============================] - 1s 650us/step - loss: 0.3953 - accuracy: 0.8581\n",
      "Epoch 3/10\n",
      "1875/1875 [==============================] - 1s 636us/step - loss: 0.3645 - accuracy: 0.8697\n",
      "Epoch 4/10\n",
      "1875/1875 [==============================] - 1s 648us/step - loss: 0.3531 - accuracy: 0.8733\n",
      "Epoch 5/10\n",
      "1875/1875 [==============================] - 1s 654us/step - loss: 0.3366 - accuracy: 0.8770\n",
      "Epoch 6/10\n",
      "1875/1875 [==============================] - 1s 655us/step - loss: 0.3458 - accuracy: 0.8808\n",
      "Epoch 7/10\n",
      "1875/1875 [==============================] - 1s 657us/step - loss: 0.3337 - accuracy: 0.8828\n",
      "Epoch 8/10\n",
      "1875/1875 [==============================] - 1s 654us/step - loss: 0.3065 - accuracy: 0.8891\n",
      "Epoch 9/10\n",
      "1875/1875 [==============================] - 1s 661us/step - loss: 0.2973 - accuracy: 0.8934\n",
      "Epoch 10/10\n",
      "1875/1875 [==============================] - 1s 662us/step - loss: 0.4503 - accuracy: 0.8916\n",
      "1875/1875 - 1s - loss: 0.2865 - accuracy: 0.8938\n",
      "\n",
      "Test accuracy: 0.8938000202178955\n"
     ]
    }
   ],
   "source": [
    "# We are going to recreate our model by changing the activation functions of it\n",
    "\n",
    "# The exponential activation function\n",
    "\n",
    "fashion_mnist = keras.datasets.fashion_mnist\n",
    "(x_train, y_train), (x_test, y_test) = fashion_mnist.load_data()\n",
    "x_train = x_train / 255.0\n",
    "x_test = x_test / 255.0\n",
    "\n",
    "# loading of the model\n",
    "\n",
    "model = Sequential([\n",
    "    keras.layers.Flatten(input_shape=(28, 28)),\n",
    "    Dense(128,activation='exponential'),\n",
    "    Dense(10)\n",
    "])\n",
    "# We compile our model with \n",
    "model.compile(optimizer='adam',\n",
    "              loss=keras.losses.SparseCategoricalCrossentropy(from_logits=True),\n",
    "              metrics=['accuracy'])\n",
    "# We start the training\n",
    "model.fit(x_train, y_train, epochs=10)\n",
    "# Evaluate the accuracy of the result\n",
    "test_loss, test_acc = model.evaluate(x_train,  y_train, verbose=2)\n",
    "print('\\nTest accuracy:', test_acc)"
   ]
  },
  {
   "cell_type": "markdown",
   "metadata": {},
   "source": [
    "# Exercice 5: Build a neural network for text classification"
   ]
  },
  {
   "cell_type": "markdown",
   "metadata": {},
   "source": [
    "For this TP, in the first we train and test a multiplayer layer with the code provided in the practical sheet"
   ]
  },
  {
   "cell_type": "markdown",
   "metadata": {},
   "source": [
    "## Sentiment analysis"
   ]
  },
  {
   "cell_type": "markdown",
   "metadata": {},
   "source": [
    "### Download and explore the IMDB dataset"
   ]
  },
  {
   "cell_type": "code",
   "execution_count": 2,
   "metadata": {},
   "outputs": [],
   "source": [
    "url = \"https://ai.stanford.edu/~amaas/data/sentiment/aclImdb_v1.tar.gz\"\n",
    "dataset = keras.utils.get_file(\"aclImdb_v1.tar.gz\", url,untar=True, cache_dir='.',cache_subdir='')\n",
    "\n",
    "dataset_dir = os.path.join(os.path.dirname(dataset), 'aclImdb')"
   ]
  },
  {
   "cell_type": "code",
   "execution_count": 3,
   "metadata": {},
   "outputs": [
    {
     "name": "stdout",
     "output_type": "stream",
     "text": [
      "Rachel Griffiths writes and directs this award winning short film. A heartwarming story about coping with grief and cherishing the memory of those we've loved and lost. Although, only 15 minutes long, Griffiths manages to capture so much emotion and truth onto film in the short space of time. Bud Tingwell gives a touching performance as Will, a widower struggling to cope with his wife's death. Will is confronted by the harsh reality of loneliness and helplessness as he proceeds to take care of Ruth's pet cow, Tulip. The film displays the grief and responsibility one feels for those they have loved and lost. Good cinematography, great direction, and superbly acted. It will bring tears to all those who have lost a loved one, and survived.\n"
     ]
    }
   ],
   "source": [
    "os.listdir(dataset_dir)\n",
    "train_dir = os.path.join(dataset_dir, 'train')\n",
    "os.listdir(train_dir)\n",
    "sample_file = os.path.join(train_dir, 'pos/1181_9.txt')\n",
    "with open(sample_file) as f:\n",
    "  print(f.read())"
   ]
  },
  {
   "cell_type": "markdown",
   "metadata": {},
   "source": [
    "### Load the dataset"
   ]
  },
  {
   "cell_type": "code",
   "execution_count": 4,
   "metadata": {},
   "outputs": [
    {
     "name": "stdout",
     "output_type": "stream",
     "text": [
      "Found 25000 files belonging to 2 classes.\n",
      "Using 20000 files for training.\n"
     ]
    }
   ],
   "source": [
    "# of the data\n",
    "remove_dir = os.path.join(train_dir, 'unsup')\n",
    "shutil.rmtree(remove_dir)\n",
    "batch_size = 32\n",
    "seed = 42\n",
    "\n",
    "raw_train_ds = keras.preprocessing.text_dataset_from_directory(\n",
    "    'aclImdb/train', \n",
    "    batch_size=batch_size, \n",
    "    validation_split=0.2, \n",
    "    subset='training', \n",
    "    seed=seed)"
   ]
  },
  {
   "cell_type": "code",
   "execution_count": 5,
   "metadata": {},
   "outputs": [
    {
     "name": "stdout",
     "output_type": "stream",
     "text": [
      "Review b'\"Pandemonium\" is a horror movie spoof that comes off more stupid than funny. Believe me when I tell you, I love comedies. Especially comedy spoofs. \"Airplane\", \"The Naked Gun\" trilogy, \"Blazing Saddles\", \"High Anxiety\", and \"Spaceballs\" are some of my favorite comedies that spoof a particular genre. \"Pandemonium\" is not up there with those films. Most of the scenes in this movie had me sitting there in stunned silence because the movie wasn\\'t all that funny. There are a few laughs in the film, but when you watch a comedy, you expect to laugh a lot more than a few times and that\\'s all this film has going for it. Geez, \"Scream\" had more laughs than this film and that was more of a horror film. How bizarre is that?<br /><br />*1/2 (out of four)'\n",
      "Label 0\n",
      "Review b\"David Mamet is a very interesting and a very un-equal director. His first movie 'House of Games' was the one I liked best, and it set a series of films with characters whose perspective of life changes as they get into complicated situations, and so does the perspective of the viewer.<br /><br />So is 'Homicide' which from the title tries to set the mind of the viewer to the usual crime drama. The principal characters are two cops, one Jewish and one Irish who deal with a racially charged area. The murder of an old Jewish shop owner who proves to be an ancient veteran of the Israeli Independence war triggers the Jewish identity in the mind and heart of the Jewish detective.<br /><br />This is were the flaws of the film are the more obvious. The process of awakening is theatrical and hard to believe, the group of Jewish militants is operatic, and the way the detective eventually walks to the final violent confrontation is pathetic. The end of the film itself is Mamet-like smart, but disappoints from a human emotional perspective.<br /><br />Joe Mantegna and William Macy give strong performances, but the flaws of the story are too evident to be easily compensated.\"\n",
      "Label 0\n",
      "Review b'Great documentary about the lives of NY firefighters during the worst terrorist attack of all time.. That reason alone is why this should be a must see collectors item.. What shocked me was not only the attacks, but the\"High Fat Diet\" and physical appearance of some of these firefighters. I think a lot of Doctors would agree with me that,in the physical shape they were in, some of these firefighters would NOT of made it to the 79th floor carrying over 60 lbs of gear. Having said that i now have a greater respect for firefighters and i realize becoming a firefighter is a life altering job. The French have a history of making great documentary\\'s and that is what this is, a Great Documentary.....'\n",
      "Label 1\n",
      "Label 0 corresponds to neg\n",
      "Label 1 corresponds to pos\n"
     ]
    }
   ],
   "source": [
    "#\n",
    "for text_batch, label_batch in raw_train_ds.take(1):\n",
    "  for i in range(3):\n",
    "    print(\"Review\", text_batch.numpy()[i])\n",
    "    print(\"Label\", label_batch.numpy()[i])\n",
    "    \n",
    "print(\"Label 0 corresponds to\", raw_train_ds.class_names[0])\n",
    "print(\"Label 1 corresponds to\", raw_train_ds.class_names[1])"
   ]
  },
  {
   "cell_type": "code",
   "execution_count": 6,
   "metadata": {},
   "outputs": [
    {
     "name": "stdout",
     "output_type": "stream",
     "text": [
      "Found 25000 files belonging to 2 classes.\n",
      "Using 5000 files for validation.\n",
      "Found 25000 files belonging to 2 classes.\n"
     ]
    }
   ],
   "source": [
    "# We take aregoing to create a set of validation and a set of test.\n",
    "raw_val_ds = keras.preprocessing.text_dataset_from_directory(\n",
    "    'aclImdb/train', \n",
    "    batch_size=batch_size, \n",
    "    validation_split=0.2, \n",
    "    subset='validation', \n",
    "    seed=seed)\n",
    "# We are going to keep the 5000 other reviews from the formation set for validation\n",
    "raw_test_ds = keras.preprocessing.text_dataset_from_directory(\n",
    "    'aclImdb/test', \n",
    "    batch_size=batch_size)"
   ]
  },
  {
   "cell_type": "markdown",
   "metadata": {},
   "source": [
    "### Prepare the dataset for training"
   ]
  },
  {
   "cell_type": "code",
   "execution_count": 7,
   "metadata": {},
   "outputs": [],
   "source": [
    "# Now we can prepare our data for the formation\n",
    "def custom_standardization(input_data):\n",
    "  lowercase = strings.lower(input_data)\n",
    "  stripped_html = strings.regex_replace(lowercase, '<br />', ' ')\n",
    "  return strings.regex_replace(stripped_html,\n",
    "                                  '[%s]' % re.escape(string.punctuation),\n",
    "                                  '')\n",
    "# Creation of a textVectorisation to standardise, tokenise and vectorise our data\n",
    "\n",
    "max_features = 10000\n",
    "sequence_length = 250\n",
    "\n",
    "vectorize_layer = TextVectorization(\n",
    "    standardize=custom_standardization,\n",
    "    max_tokens=max_features,\n",
    "    output_mode='int',\n",
    "    output_sequence_length=sequence_length)\n",
    "\n",
    "# Make a text-only dataset (without labels), then call adapt\n",
    "train_text = raw_train_ds.map(lambda x, y: x)\n",
    "vectorize_layer.adapt(train_text)"
   ]
  },
  {
   "cell_type": "code",
   "execution_count": 8,
   "metadata": {},
   "outputs": [
    {
     "name": "stdout",
     "output_type": "stream",
     "text": [
      "Review tf.Tensor(b'Silent Night, Deadly Night 5 is the very last of the series, and like part 4, it\\'s unrelated to the first three except by title and the fact that it\\'s a Christmas-themed horror flick.<br /><br />Except to the oblivious, there\\'s some obvious things going on here...Mickey Rooney plays a toymaker named Joe Petto and his creepy son\\'s name is Pino. Ring a bell, anyone? Now, a little boy named Derek heard a knock at the door one evening, and opened it to find a present on the doorstep for him. Even though it said \"don\\'t open till Christmas\", he begins to open it anyway but is stopped by his dad, who scolds him and sends him to bed, and opens the gift himself. Inside is a little red ball that sprouts Santa arms and a head, and proceeds to kill dad. Oops, maybe he should have left well-enough alone. Of course Derek is then traumatized by the incident since he watched it from the stairs, but he doesn\\'t grow up to be some killer Santa, he just stops talking.<br /><br />There\\'s a mysterious stranger lurking around, who seems very interested in the toys that Joe Petto makes. We even see him buying a bunch when Derek\\'s mom takes him to the store to find a gift for him to bring him out of his trauma. And what exactly is this guy doing? Well, we\\'re not sure but he does seem to be taking these toys apart to see what makes them tick. He does keep his landlord from evicting him by promising him to pay him in cash the next day and presents him with a \"Larry the Larvae\" toy for his kid, but of course \"Larry\" is not a good toy and gets out of the box in the car and of course, well, things aren\\'t pretty.<br /><br />Anyway, eventually what\\'s going on with Joe Petto and Pino is of course revealed, and as with the old story, Pino is not a \"real boy\". Pino is probably even more agitated and naughty because he suffers from \"Kenitalia\" (a smooth plastic crotch) so that could account for his evil ways. And the identity of the lurking stranger is revealed too, and there\\'s even kind of a happy ending of sorts. Whee.<br /><br />A step up from part 4, but not much of one. Again, Brian Yuzna is involved, and Screaming Mad George, so some decent special effects, but not enough to make this great. A few leftovers from part 4 are hanging around too, like Clint Howard and Neith Hunter, but that doesn\\'t really make any difference. Anyway, I now have seeing the whole series out of my system. Now if I could get some of it out of my brain. 4 out of 5.', shape=(), dtype=string)\n",
      "Label neg\n",
      "Vectorized review (<tf.Tensor: shape=(1, 250), dtype=int64, numpy=\n",
      "array([[1287,  313, 2380,  313,  661,    7,    2,   52,  229,    5,    2,\n",
      "         200,    3,   38,  170,  669,   29, 5492,    6,    2,   83,  297,\n",
      "         549,   32,  410,    3,    2,  186,   12,   29,    4,    1,  191,\n",
      "         510,  549,    6,    2, 8229,  212,   46,  576,  175,  168,   20,\n",
      "           1, 5361,  290,    4,    1,  761,  969,    1,    3,   24,  935,\n",
      "        2271,  393,    7,    1, 1675,    4, 3747,  250,  148,    4,  112,\n",
      "         436,  761, 3529,  548,    4, 3633,   31,    2, 1331,   28, 2096,\n",
      "           3, 2912,    9,    6,  163,    4, 1006,   20,    2,    1,   15,\n",
      "          85,   53,  147,    9,  292,   89,  959, 2314,  984,   27,  762,\n",
      "           6,  959,    9,  564,   18,    7, 2140,   32,   24, 1254,   36,\n",
      "           1,   85,    3, 3298,   85,    6, 1410,    3, 1936,    2, 3408,\n",
      "         301,  965,    7,    4,  112,  740, 1977,   12,    1, 2014, 2772,\n",
      "           3,    4,  428,    3, 5177,    6,  512, 1254,    1,  278,   27,\n",
      "         139,   25,  308,    1,  579,    5,  259, 3529,    7,   92, 8981,\n",
      "          32,    2, 3842,  230,   27,  289,    9,   35,    2, 5712,   18,\n",
      "          27,  144, 2166,   56,    6,   26,   46,  466, 2014,   27,   40,\n",
      "        2745,  657,  212,    4, 1376, 3002, 7080,  183,   36,  180,   52,\n",
      "         920,    8,    2, 4028,   12,  969,    1,  158,   71,   53,   67,\n",
      "          85, 2754,    4,  734,   51,    1, 1611,  294,   85,    6,    2,\n",
      "        1164,    6,  163,    4, 3408,   15,   85,    6,  717,   85,   44,\n",
      "           5,   24, 7158,    3,   48,  604,    7,   11,  225,  384,   73,\n",
      "          65,   21,  242,   18,   27,  120,  295,    6,   26,  667,  129,\n",
      "        4028,  948,    6,   67,   48,  158,   93,    1]], dtype=int64)>, <tf.Tensor: shape=(), dtype=int32, numpy=0>)\n",
      "1287 --->  silent\n",
      " 313 --->  night\n",
      "Vocabulary size: 10000\n"
     ]
    }
   ],
   "source": [
    "# \n",
    "def vectorize_text(text, label):\n",
    "  text = tf.expand_dims(text, -1)\n",
    "  return vectorize_layer(text), label\n",
    "\n",
    "# retrieve a batch (of 32 reviews and labels) from the dataset\n",
    "text_batch, label_batch = next(iter(raw_train_ds))\n",
    "first_review, first_label = text_batch[0], label_batch[0]\n",
    "print(\"Review\", first_review)\n",
    "print(\"Label\", raw_train_ds.class_names[first_label])\n",
    "print(\"Vectorized review\", vectorize_text(first_review, first_label))\n",
    "\n",
    "# \n",
    "print(\"1287 ---> \",vectorize_layer.get_vocabulary()[1287])\n",
    "print(\" 313 ---> \",vectorize_layer.get_vocabulary()[313])\n",
    "print('Vocabulary size: {}'.format(len(vectorize_layer.get_vocabulary())))\n",
    "\n",
    "# \n",
    "train_ds = raw_train_ds.map(vectorize_text)\n",
    "val_ds = raw_val_ds.map(vectorize_text)\n",
    "test_ds = raw_test_ds.map(vectorize_text)"
   ]
  },
  {
   "cell_type": "markdown",
   "metadata": {},
   "source": [
    "### Configure the dataset for performance"
   ]
  },
  {
   "cell_type": "code",
   "execution_count": 9,
   "metadata": {},
   "outputs": [],
   "source": [
    "# Configuration of the data\n",
    "\n",
    "AUTOTUNE = tf.data.AUTOTUNE\n",
    "\n",
    "train_ds = train_ds.cache().prefetch(buffer_size=AUTOTUNE)\n",
    "val_ds = val_ds.cache().prefetch(buffer_size=AUTOTUNE)\n",
    "test_ds = test_ds.cache().prefetch(buffer_size=AUTOTUNE)"
   ]
  },
  {
   "cell_type": "markdown",
   "metadata": {},
   "source": [
    "### Create the model"
   ]
  },
  {
   "cell_type": "code",
   "execution_count": 17,
   "metadata": {},
   "outputs": [
    {
     "name": "stdout",
     "output_type": "stream",
     "text": [
      "size of the model:  48\n",
      "Model: \"sequential_6\"\n",
      "_________________________________________________________________\n",
      "Layer (type)                 Output Shape              Param #   \n",
      "=================================================================\n",
      "embedding_6 (Embedding)      (None, None, 16)          160016    \n",
      "_________________________________________________________________\n",
      "dropout_12 (Dropout)         (None, None, 16)          0         \n",
      "_________________________________________________________________\n",
      "global_average_pooling1d_6 ( (None, 16)                0         \n",
      "_________________________________________________________________\n",
      "dropout_13 (Dropout)         (None, 16)                0         \n",
      "_________________________________________________________________\n",
      "dense_6 (Dense)              (None, 1)                 17        \n",
      "=================================================================\n",
      "Total params: 160,033\n",
      "Trainable params: 160,033\n",
      "Non-trainable params: 0\n",
      "_________________________________________________________________\n"
     ]
    }
   ],
   "source": [
    "# Creation of the model\n",
    "\n",
    "embedding_dim = 16\n",
    "\n",
    "model = tf.keras.Sequential([\n",
    "    # First, we trun our index into dense vecto of fixed size\n",
    "  layers.Embedding(max_features + 1, embedding_dim),\n",
    "    # After that we create a layer which will sets input units to 0 at a rate of 0.2 during the training \n",
    "    # to prevent overfitting\n",
    "  layers.Dropout(0.2),\n",
    "    # Then we pool our data into a 2D tensor with shape(batch_size, features)\n",
    "  layers.GlobalAveragePooling1D(),\n",
    "    # We drop again in the same way as before\n",
    "  layers.Dropout(0.2),\n",
    "    # And in the end we add the layer of one dimension for the result\n",
    "  layers.Dense(1)])\n",
    "\n",
    "model.summary()"
   ]
  },
  {
   "cell_type": "markdown",
   "metadata": {},
   "source": [
    "### Loss function and optimizer"
   ]
  },
  {
   "cell_type": "code",
   "execution_count": 18,
   "metadata": {},
   "outputs": [
    {
     "name": "stdout",
     "output_type": "stream",
     "text": [
      "Epoch 1/10\n",
      "625/625 [==============================] - 27s 42ms/step - loss: 0.6824 - binary_accuracy: 0.6152 - val_loss: 0.6152 - val_binary_accuracy: 0.7706\n",
      "Epoch 2/10\n",
      "625/625 [==============================] - 2s 3ms/step - loss: 0.5803 - binary_accuracy: 0.7838 - val_loss: 0.4984 - val_binary_accuracy: 0.8220\n",
      "Epoch 3/10\n",
      "625/625 [==============================] - 1s 2ms/step - loss: 0.4659 - binary_accuracy: 0.8387 - val_loss: 0.4201 - val_binary_accuracy: 0.8474\n",
      "Epoch 4/10\n",
      "625/625 [==============================] - 2s 2ms/step - loss: 0.3914 - binary_accuracy: 0.8606 - val_loss: 0.3737 - val_binary_accuracy: 0.8608\n",
      "Epoch 5/10\n",
      "625/625 [==============================] - 2s 2ms/step - loss: 0.3453 - binary_accuracy: 0.8749 - val_loss: 0.3448 - val_binary_accuracy: 0.8670\n",
      "Epoch 6/10\n",
      "625/625 [==============================] - 1s 2ms/step - loss: 0.3118 - binary_accuracy: 0.8864 - val_loss: 0.3258 - val_binary_accuracy: 0.8714\n",
      "Epoch 7/10\n",
      "625/625 [==============================] - 1s 2ms/step - loss: 0.2860 - binary_accuracy: 0.8952 - val_loss: 0.3126 - val_binary_accuracy: 0.8726\n",
      "Epoch 8/10\n",
      "625/625 [==============================] - 1s 2ms/step - loss: 0.2657 - binary_accuracy: 0.9052 - val_loss: 0.3031 - val_binary_accuracy: 0.8768\n",
      "Epoch 9/10\n",
      "625/625 [==============================] - 1s 2ms/step - loss: 0.2475 - binary_accuracy: 0.9098 - val_loss: 0.2964 - val_binary_accuracy: 0.8774\n",
      "Epoch 10/10\n",
      "625/625 [==============================] - 1s 2ms/step - loss: 0.2347 - binary_accuracy: 0.9158 - val_loss: 0.2917 - val_binary_accuracy: 0.8786\n"
     ]
    }
   ],
   "source": [
    "# binary crossentropy loss function and adam optimizer\n",
    "\n",
    "model.compile(loss=losses.BinaryCrossentropy(from_logits=True),\n",
    "              optimizer='adam',\n",
    "              metrics=tf.metrics.BinaryAccuracy(threshold=0.0))\n",
    "\n",
    "# Creation of the model\n",
    "\n",
    "epochs = 10\n",
    "history = model.fit(\n",
    "    train_ds,\n",
    "    validation_data=val_ds,\n",
    "    epochs=epochs)"
   ]
  },
  {
   "cell_type": "markdown",
   "metadata": {},
   "source": [
    "### Train the model"
   ]
  },
  {
   "cell_type": "code",
   "execution_count": 19,
   "metadata": {},
   "outputs": [
    {
     "name": "stdout",
     "output_type": "stream",
     "text": [
      "782/782 [==============================] - 85s 108ms/step - loss: 0.3103 - binary_accuracy: 0.8734\n",
      "Loss:  0.31027287244796753\n",
      "Accuracy:  0.8734400272369385\n"
     ]
    }
   ],
   "source": [
    "# evaluation of the model\n",
    "\n",
    "loss, accuracy = model.evaluate(test_ds)\n",
    "\n",
    "print(\"Loss: \", loss)\n",
    "print(\"Accuracy: \", accuracy)"
   ]
  },
  {
   "cell_type": "markdown",
   "metadata": {},
   "source": [
    "### Create a plot of accuracy and loss over time"
   ]
  },
  {
   "cell_type": "code",
   "execution_count": 20,
   "metadata": {},
   "outputs": [
    {
     "data": {
      "image/png": "[encoded data removed]",
      "text/plain": [
       "<Figure size 432x288 with 1 Axes>"
      ]
     },
     "metadata": {
      "needs_background": "light"
     },
     "output_type": "display_data"
    }
   ],
   "source": [
    "#\n",
    "\n",
    "history_dict = history.history\n",
    "\n",
    "acc = history_dict['binary_accuracy']\n",
    "val_acc = history_dict['val_binary_accuracy']\n",
    "loss = history_dict['loss']\n",
    "val_loss = history_dict['val_loss']\n",
    "\n",
    "epochs = range(1, len(acc) + 1)\n",
    "\n",
    "# \"bo\" is for \"blue dot\"\n",
    "plt.plot(epochs, loss, 'bo', label='Training loss')\n",
    "# b is for \"solid blue line\"\n",
    "plt.plot(epochs, val_loss, 'b', label='Validation loss')\n",
    "plt.title('Training and validation loss')\n",
    "plt.xlabel('Epochs')\n",
    "plt.ylabel('Loss')\n",
    "plt.legend()\n",
    "\n",
    "plt.show()"
   ]
  },
  {
   "cell_type": "code",
   "execution_count": 21,
   "metadata": {},
   "outputs": [
    {
     "data": {
      "image/png": "[encoded data removed]",
      "text/plain": [
       "<Figure size 432x288 with 1 Axes>"
      ]
     },
     "metadata": {
      "needs_background": "light"
     },
     "output_type": "display_data"
    }
   ],
   "source": [
    "# plot of the curve of the representation between \n",
    "\n",
    "plt.plot(epochs, acc, 'bo', label='Training acc')\n",
    "plt.plot(epochs, val_acc, 'b', label='Validation acc')\n",
    "plt.title('Training and validation accuracy')\n",
    "plt.xlabel('Epochs')\n",
    "plt.ylabel('Accuracy')\n",
    "plt.legend(loc='lower right')\n",
    "\n",
    "plt.show()"
   ]
  },
  {
   "cell_type": "code",
   "execution_count": 22,
   "metadata": {},
   "outputs": [
    {
     "name": "stdout",
     "output_type": "stream",
     "text": [
      "782/782 [==============================] - 11s 14ms/step - loss: 0.3053 - accuracy: 0.8770\n",
      "0.8734400272369385\n"
     ]
    }
   ],
   "source": [
    "# Exportation of our model\n",
    "\n",
    "export_model = tf.keras.Sequential([\n",
    "  vectorize_layer,\n",
    "  model,\n",
    "  layers.Activation('sigmoid')\n",
    "])\n",
    "\n",
    "export_model.compile(\n",
    "    loss=losses.BinaryCrossentropy(from_logits=False), optimizer=\"adam\", metrics=['accuracy']\n",
    ")\n",
    "\n",
    "# Test it with `raw_test_ds`, which yields raw strings\n",
    "loss, accuracy = export_model.evaluate(raw_test_ds)\n",
    "print(accuracy)"
   ]
  },
  {
   "cell_type": "markdown",
   "metadata": {},
   "source": [
    "After this done, we experimented with differents sizes of the network"
   ]
  },
  {
   "cell_type": "markdown",
   "metadata": {},
   "source": [
    "- First we test it with an increased size"
   ]
  },
  {
   "cell_type": "code",
   "execution_count": 23,
   "metadata": {},
   "outputs": [
    {
     "name": "stdout",
     "output_type": "stream",
     "text": [
      "Model: \"sequential_8\"\n",
      "_________________________________________________________________\n",
      "Layer (type)                 Output Shape              Param #   \n",
      "=================================================================\n",
      "embedding_7 (Embedding)      (None, None, 16)          160016    \n",
      "_________________________________________________________________\n",
      "dropout_14 (Dropout)         (None, None, 16)          0         \n",
      "_________________________________________________________________\n",
      "global_average_pooling1d_7 ( (None, 16)                0         \n",
      "_________________________________________________________________\n",
      "dropout_15 (Dropout)         (None, 16)                0         \n",
      "_________________________________________________________________\n",
      "dense_7 (Dense)              (None, 17)                289       \n",
      "_________________________________________________________________\n",
      "dense_8 (Dense)              (None, 17)                306       \n",
      "_________________________________________________________________\n",
      "dense_9 (Dense)              (None, 17)                306       \n",
      "_________________________________________________________________\n",
      "dense_10 (Dense)             (None, 1)                 18        \n",
      "=================================================================\n",
      "Total params: 160,935\n",
      "Trainable params: 160,935\n",
      "Non-trainable params: 0\n",
      "_________________________________________________________________\n"
     ]
    }
   ],
   "source": [
    "# First we improve the size by increasing the number of layer\n",
    "\n",
    "embedding_dim = 16\n",
    "\n",
    "model = tf.keras.Sequential([\n",
    "  layers.Embedding(max_features + 1, embedding_dim),\n",
    "  layers.Dropout(0.2),\n",
    "  layers.GlobalAveragePooling1D(),\n",
    "  layers.Dropout(0.2),\n",
    "  layers.Dense(17),\n",
    "  layers.Dense(17),\n",
    "  layers.Dense(17),\n",
    "  layers.Dense(1)])\n",
    "\n",
    "model.summary()"
   ]
  },
  {
   "cell_type": "code",
   "execution_count": 24,
   "metadata": {},
   "outputs": [
    {
     "name": "stdout",
     "output_type": "stream",
     "text": [
      "Model: \"sequential_9\"\n",
      "_________________________________________________________________\n",
      "Layer (type)                 Output Shape              Param #   \n",
      "=================================================================\n",
      "embedding_8 (Embedding)      (None, None, 100)         1000100   \n",
      "_________________________________________________________________\n",
      "dropout_16 (Dropout)         (None, None, 100)         0         \n",
      "_________________________________________________________________\n",
      "global_average_pooling1d_8 ( (None, 100)               0         \n",
      "_________________________________________________________________\n",
      "dropout_17 (Dropout)         (None, 100)               0         \n",
      "_________________________________________________________________\n",
      "dense_11 (Dense)             (None, 1)                 101       \n",
      "=================================================================\n",
      "Total params: 1,000,201\n",
      "Trainable params: 1,000,201\n",
      "Non-trainable params: 0\n",
      "_________________________________________________________________\n"
     ]
    }
   ],
   "source": [
    "# After that we increase the network size by increasing the number of perceptrons\n",
    "\n",
    "embedding_dim = 100\n",
    "\n",
    "model = tf.keras.Sequential([\n",
    "  layers.Embedding(max_features + 1, embedding_dim),\n",
    "  layers.Dropout(0.2),\n",
    "  layers.GlobalAveragePooling1D(),\n",
    "  layers.Dropout(0.2),\n",
    "  layers.Dense(1)])\n",
    "\n",
    "model.summary()"
   ]
  },
  {
   "cell_type": "markdown",
   "metadata": {},
   "source": [
    "- Then we test it with an decreased size"
   ]
  },
  {
   "cell_type": "code",
   "execution_count": null,
   "metadata": {},
   "outputs": [],
   "source": [
    "# First we reduce the size by decreasing the number of layer\n",
    "\n",
    "embedding_dim = 16\n",
    "\n",
    "model = tf.keras.Sequential([\n",
    "  layers.Embedding(max_features + 1, embedding_dim),\n",
    "  layers.Dropout(0.2),\n",
    "  layers.GlobalAveragePooling1D(),\n",
    "  layers.Dropout(0.2),\n",
    "  layers.Dense(1)])\n",
    "\n",
    "model.summary()"
   ]
  },
  {
   "cell_type": "code",
   "execution_count": null,
   "metadata": {},
   "outputs": [],
   "source": [
    "# After that we reduce the network size by decreasing the number of perceptrons by layers\n",
    "\n",
    "embedding_dim = 4\n",
    "\n",
    "model = tf.keras.Sequential([\n",
    "  layers.Embedding(max_features + 1, embedding_dim),\n",
    "  layers.Dropout(0.2),\n",
    "  layers.GlobalAveragePooling1D(),\n",
    "  layers.Dropout(0.2),\n",
    "  layers.Dense(1)])\n",
    "\n",
    "model.summary()"
   ]
  },
  {
   "cell_type": "markdown",
   "metadata": {},
   "source": [
    "We changed our network to demonstrate overfitting"
   ]
  },
  {
   "cell_type": "code",
   "execution_count": null,
   "metadata": {},
   "outputs": [],
   "source": [
    "# We delete the dropout which prevent overfitting during the training\n",
    "\n",
    "embedding_dim = 16\n",
    "\n",
    "model = tf.keras.Sequential([\n",
    "  layers.Embedding(max_features + 1, embedding_dim),\n",
    "  layers.GlobalAveragePooling1D(),\n",
    "  layers.Dense(1)])\n",
    "\n",
    "model.summary()"
   ]
  },
  {
   "cell_type": "markdown",
   "metadata": {},
   "source": [
    "And to finish we tried three way to prevent overfitting on our network :\n",
    "- Add weight regularization"
   ]
  },
  {
   "cell_type": "code",
   "execution_count": null,
   "metadata": {},
   "outputs": [],
   "source": []
  },
  {
   "cell_type": "markdown",
   "metadata": {},
   "source": [
    "- Add dropout"
   ]
  },
  {
   "cell_type": "code",
   "execution_count": null,
   "metadata": {},
   "outputs": [],
   "source": [
    "# Adding droupout alow us to sets imput training to 0 during the training at a given rate (what was originaly done)"
   ]
  },
  {
   "cell_type": "markdown",
   "metadata": {},
   "source": [
    "- combined L2 + dropout"
   ]
  },
  {
   "cell_type": "code",
   "execution_count": null,
   "metadata": {},
   "outputs": [],
   "source": []
  },
  {
   "cell_type": "markdown",
   "metadata": {},
   "source": [
    "A more detailed description of our actions and results will be found in our final report"
   ]
  }
 ],
 "metadata": {
  "kernelspec": {
   "display_name": "Python 3",
   "language": "python",
   "name": "python3"
  },
  "language_info": {
   "codemirror_mode": {
    "name": "ipython",
    "version": 3
   },
   "file_extension": ".py",
   "mimetype": "text/x-python",
   "name": "python",
   "nbconvert_exporter": "python",
   "pygments_lexer": "ipython3",
   "version": "3.8.5"
  }
 },
 "nbformat": 4,
 "nbformat_minor": 5
}
